{
 "cells": [
  {
   "cell_type": "markdown",
   "id": "4bbbaa10",
   "metadata": {},
   "source": [
    "\n",
    "# **Assignment**\n",
    "## **Expert system for Typhoid**"
   ]
  },
  {
   "cell_type": "code",
   "execution_count": 1,
   "id": "502939fd",
   "metadata": {},
   "outputs": [
    {
     "name": "stdout",
     "output_type": "stream",
     "text": [
      "Temperature:90\n",
      "Enter four values: yes yes no no \n",
      "Temperature:  90\n",
      "Cold:  yes\n",
      "Headache:  yes\n",
      "Nausea:  no\n",
      "StomachFlu:  no\n",
      "Just common cold so do home remedies and rest😷😷\n"
     ]
    }
   ],
   "source": [
    "T= int(input(\"Temperature:\"))\n",
    "C,H,N,S = input(\"Enter four values: \").split()\n",
    "print(\"Temperature: \", T)\n",
    "print(\"Cold: \", C)\n",
    "print(\"Headache: \", H)\n",
    "print(\"Nausea: \" , N)\n",
    "print(\"StomachFlu: \", S)\n",
    "if((T>=98) and (C==\"yes\") and (H==\"yes\") and (N==\"yes\") and (S==\"yes\")):\n",
    " print(\"Typhoid!!!💀💀\")\n",
    "elif((T>=98) and (C==\"yes\") and (H==\"yes\") and (N==\"no\") and (S==\"no\")):\n",
    " print(\"Just normal fever so take medication and rest🤒🤒\")\n",
    "elif((T<98) and (C==\"yes\") and (H==\"yes\") and (N==\"no\") and (S==\"no\")):\n",
    " print(\"Just common cold so do home remedies and rest😷😷\")\n",
    "elif((T<98) and (C==\"yes\") and (H==\"yes\") and (N==\"yes\") and (S==\"yes\")):\n",
    " print(\"Some sorta allergy and severe cold🤧🤧\")"
   ]
  },
  {
   "cell_type": "code",
   "execution_count": null,
   "id": "87db736e",
   "metadata": {},
   "outputs": [],
   "source": []
  }
 ],
 "metadata": {
  "kernelspec": {
   "display_name": "Python 3 (ipykernel)",
   "language": "python",
   "name": "python3"
  },
  "language_info": {
   "codemirror_mode": {
    "name": "ipython",
    "version": 3
   },
   "file_extension": ".py",
   "mimetype": "text/x-python",
   "name": "python",
   "nbconvert_exporter": "python",
   "pygments_lexer": "ipython3",
   "version": "3.9.7"
  }
 },
 "nbformat": 4,
 "nbformat_minor": 5
}
